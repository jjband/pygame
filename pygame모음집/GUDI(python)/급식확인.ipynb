{
 "cells": [
  {
   "cell_type": "code",
   "execution_count": 3,
   "metadata": {},
   "outputs": [],
   "source": [
    "import requests\n",
    "def get_sc_code(name):\n",
    "    param={\"SCHUL_NM\":name,\n",
    "        \"ATPT_OFCDC_SC_CODE\":\"M10\",\n",
    "        \"TYPE\":\"json\"}\n",
    "    res = requests.get(\"https://open.neis.go.kr/hub/schoolInfo\",params=param)\n",
    "    data = res.json()\n",
    "    r = True\n",
    "    try:\n",
    "        data = data[\"schoolInfo\"][1][\"row\"][0][\"SD_SCHUL_CODE\"]\n",
    "    except:\n",
    "        print(\"없음 수곸ㅋ\")\n",
    "        r = False\n",
    "    return r,data\n",
    "def get_meal(code,day):\n",
    "    param={\"TYPE\":\"json\",\n",
    "           \"ATPT_OFCDC_SC_CODE\":\"M10\",\n",
    "           \"SD_SCHUL_CODE\":code,\n",
    "           \"MMEAL_SC_CODE\":\"2\",\n",
    "           \"MLSV_YMD\":day}\n",
    "    res = requests.get(\"https://open.neis.go.kr/hub/mealServiceDietInfo\",params=param)\n",
    "    data=res.json()\n",
    "    data = data[\"mealServiceDietInfo\"][1][\"row\"][0][\"DDISH_NM\"]\n",
    "    data = data.split(\"<br/>\")\n",
    "    newdata = []\n",
    "    nnewdata = []\n",
    "    for m in data:\n",
    "        newdata.append(m.split(\" ㅇ \")[0])\n",
    "    for m in newdata:\n",
    "        nnewdata.append(m.split(\"**\")[0])\n",
    "    return nnewdata"
   ]
  },
  {
   "cell_type": "code",
   "execution_count": 4,
   "metadata": {},
   "outputs": [
    {
     "name": "stdout",
     "output_type": "stream",
     "text": [
      "-버튼1- {'-scname-': '옥산중', '-date-': '20230816', '-txt-': '데이터 없음'}\n",
      "None None\n"
     ]
    }
   ],
   "source": [
    "import PySimpleGUI as sg\n",
    "layout = [\n",
    "    [sg.Text(\"학교이름을 입력하세요.\"),sg.Input(\"\", key=\"-scname-\")],\n",
    "    [sg.Text(\"날짜.\"),sg.Input(\"\", key=\"-date-\")],\n",
    "    [sg.Button(\"찾기\", key=\"-버튼1-\")],\n",
    "    [sg.Multiline(\"데이터 없음\", key=\"-txt-\",expand_x=True, size=(0,5))],\n",
    "    \n",
    "]\n",
    "window = sg.Window(\"급식 찾기 서비스\",layout)\n",
    "while True:\n",
    "    event, values = window.read()\n",
    "    print(event, values)\n",
    "    if event == \"-버튼2-\":\n",
    "        window[\"-txt-\"].update(\"이걸로 바꿔라!\")\n",
    "    if event== sg.WIN_CLOSED:\n",
    "        break\n",
    "    if event == \"-버튼1-\":\n",
    "        scname = values[\"-scname-\"]\n",
    "        d = values[\"-date-\"]\n",
    "        r, data = get_sc_code(scname)\n",
    "        if r == True:\n",
    "            meals = get_meal(data,d)\n",
    "            window[\"-txt-\"].update(\"\\n\".join(meals))\n",
    "\n",
    "window.close()"
   ]
  }
 ],
 "metadata": {
  "kernelspec": {
   "display_name": "Python 3",
   "language": "python",
   "name": "python3"
  },
  "language_info": {
   "codemirror_mode": {
    "name": "ipython",
    "version": 3
   },
   "file_extension": ".py",
   "mimetype": "text/x-python",
   "name": "python",
   "nbconvert_exporter": "python",
   "pygments_lexer": "ipython3",
   "version": "3.10.11"
  },
  "orig_nbformat": 4
 },
 "nbformat": 4,
 "nbformat_minor": 2
}
